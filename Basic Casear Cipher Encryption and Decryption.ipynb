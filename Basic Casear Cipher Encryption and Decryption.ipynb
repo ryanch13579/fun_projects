{
 "cells": [
  {
   "cell_type": "code",
   "execution_count": 47,
   "id": "39653e91",
   "metadata": {},
   "outputs": [],
   "source": [
    "name = 'Hi'\n",
    "key = 5\n"
   ]
  },
  {
   "cell_type": "code",
   "execution_count": 48,
   "id": "e173eb28",
   "metadata": {},
   "outputs": [],
   "source": [
    "letters = 'abcdefghijklmnopqrstuvwxyzABCDEFGHIJKLMNOPQRSTUVWXYZ'"
   ]
  },
  {
   "cell_type": "code",
   "execution_count": 49,
   "id": "396c2c77",
   "metadata": {},
   "outputs": [],
   "source": [
    "def encrypt (plaintext, keystore):\n",
    "    ciphertext = ''\n",
    "    for letter in plaintext:\n",
    "        index = letters.find(letter)\n",
    "        new_index = index + keystore\n",
    "        new_index = letters[new_index]\n",
    "        ciphertext += new_index\n",
    "    print(str(ciphertext))"
   ]
  },
  {
   "cell_type": "code",
   "execution_count": 50,
   "id": "42b9cc91",
   "metadata": {},
   "outputs": [
    {
     "name": "stdout",
     "output_type": "stream",
     "text": [
      "Mn\n"
     ]
    }
   ],
   "source": [
    "encrypt(name, key)"
   ]
  },
  {
   "cell_type": "code",
   "execution_count": 52,
   "id": "953e7c57",
   "metadata": {},
   "outputs": [],
   "source": [
    "def decrypt (plaintext, keystore):\n",
    "    ciphertext = ''\n",
    "    for letter in plaintext:\n",
    "        index = letters.find(letter)\n",
    "        new_index = index - keystore\n",
    "        new_index = letters[new_index]\n",
    "        ciphertext += new_index\n",
    "    print(str(ciphertext))"
   ]
  },
  {
   "cell_type": "code",
   "execution_count": 53,
   "id": "b15829f7",
   "metadata": {},
   "outputs": [
    {
     "name": "stdout",
     "output_type": "stream",
     "text": [
      "Hi\n"
     ]
    }
   ],
   "source": [
    "decrypt('Mn', 5)"
   ]
  },
  {
   "cell_type": "code",
   "execution_count": null,
   "id": "6a137b73",
   "metadata": {},
   "outputs": [],
   "source": []
  }
 ],
 "metadata": {
  "kernelspec": {
   "display_name": "Python 3 (ipykernel)",
   "language": "python",
   "name": "python3"
  },
  "language_info": {
   "codemirror_mode": {
    "name": "ipython",
    "version": 3
   },
   "file_extension": ".py",
   "mimetype": "text/x-python",
   "name": "python",
   "nbconvert_exporter": "python",
   "pygments_lexer": "ipython3",
   "version": "3.9.13"
  }
 },
 "nbformat": 4,
 "nbformat_minor": 5
}
